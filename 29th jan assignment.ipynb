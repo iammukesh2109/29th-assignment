{
 "cells": [
  {
   "cell_type": "code",
   "execution_count": 1,
   "id": "0705f83a-9d9e-4654-9f57-2b67ed17177c",
   "metadata": {},
   "outputs": [
    {
     "data": {
      "text/plain": [
       "'Python programming language was created by Guido van Rossum in the late 1980s. He started working on Python in December 1989 \\n   and released the first version of Python (version 0.9.0) in February 1991. Since then, Guido van Rossum has continued to lead \\n   the development of Python, along with a large community of contributors.'"
      ]
     },
     "execution_count": 1,
     "metadata": {},
     "output_type": "execute_result"
    }
   ],
   "source": [
    "#1. Who developed Python Programming Language?\n",
    "\"\"\"Python programming language was created by Guido van Rossum in the late 1980s. He started working on Python in December 1989 \n",
    "   and released the first version of Python (version 0.9.0) in February 1991. Since then, Guido van Rossum has continued to lead \n",
    "   the development of Python, along with a large community of contributors.\"\"\""
   ]
  },
  {
   "cell_type": "code",
   "execution_count": 2,
   "id": "2524cdf8-065f-4b37-be7c-70ffd2df1281",
   "metadata": {},
   "outputs": [
    {
     "data": {
      "text/plain": [
       "\"Python is a high-level, general-purpose programming language that supports a wide range of programming paradigms, including:\\n      Procedural programming - writing code in a sequential manner using functions, loops, and conditional statements.\\n      Object-oriented programming - organizing code into objects that interact with each other to perform tasks.\\n      Functional programming - treating code as mathematical functions that operate on data.\\n      Asynchronous programming - running code asynchronously to improve performance.\\n      Metaprogramming - writing code that generates other code dynamically.\\n      \\nPython's versatility and ease of use make it a popular choice for many applications, including web development, scientific computing, \\nartificial intelligence, and machine learning.\""
      ]
     },
     "execution_count": 2,
     "metadata": {},
     "output_type": "execute_result"
    }
   ],
   "source": [
    "#2. Which type of Programming does python support?\n",
    "\"\"\"Python is a high-level, general-purpose programming language that supports a wide range of programming paradigms, including:\n",
    "      Procedural programming - writing code in a sequential manner using functions, loops, and conditional statements.\n",
    "      Object-oriented programming - organizing code into objects that interact with each other to perform tasks.\n",
    "      Functional programming - treating code as mathematical functions that operate on data.\n",
    "      Asynchronous programming - running code asynchronously to improve performance.\n",
    "      Metaprogramming - writing code that generates other code dynamically.\n",
    "      \n",
    "Python's versatility and ease of use make it a popular choice for many applications, including web development, scientific computing, \n",
    "artificial intelligence, and machine learning.\"\"\""
   ]
  },
  {
   "cell_type": "code",
   "execution_count": 3,
   "id": "2e723b4a-8552-4c9b-8d88-e064f5a2f5eb",
   "metadata": {},
   "outputs": [
    {
     "data": {
      "text/plain": [
       "'Yes, Python is case sensitive when dealing with identifiers. In Python, identifiers are names given to variables, functions, classes, \\n   modules, and other objects. The names of identifiers must follow certain rules, such as starting with a letter or underscore and \\n   containing only letters, digits, and underscores.\\n\\nHowever, Python distinguishes between uppercase and lowercase letters in identifiers, which means that \"myVariable\" and \"MyVariable\" are \\ntwo different identifiers in Python. So, if you try to access an identifier with a different case than the one it was defined with, \\nPython will treat it as a different identifier altogether, which can result in errors or unexpected behavior.'"
      ]
     },
     "execution_count": 3,
     "metadata": {},
     "output_type": "execute_result"
    }
   ],
   "source": [
    "#3. Is Python case sensitive when dealing with identifiers?\n",
    "\"\"\"Yes, Python is case sensitive when dealing with identifiers. In Python, identifiers are names given to variables, functions, classes, \n",
    "   modules, and other objects. The names of identifiers must follow certain rules, such as starting with a letter or underscore and \n",
    "   containing only letters, digits, and underscores.\n",
    "\n",
    "However, Python distinguishes between uppercase and lowercase letters in identifiers, which means that \"myVariable\" and \"MyVariable\" are \n",
    "two different identifiers in Python. So, if you try to access an identifier with a different case than the one it was defined with, \n",
    "Python will treat it as a different identifier altogether, which can result in errors or unexpected behavior.\"\"\""
   ]
  },
  {
   "cell_type": "code",
   "execution_count": 4,
   "id": "b8e7cb2a-3436-4462-869b-ec18c0281c67",
   "metadata": {},
   "outputs": [
    {
     "data": {
      "text/plain": [
       "'The correct extension of a Python file is \".py\". In other words, when you save a Python program in a file, you should give it a name \\nthat ends with \".py\".'"
      ]
     },
     "execution_count": 4,
     "metadata": {},
     "output_type": "execute_result"
    }
   ],
   "source": [
    "#4.What is the correct extension of the Python file?\n",
    "\"\"\"The correct extension of a Python file is \".py\". In other words, when you save a Python program in a file, you should give it a name \n",
    "that ends with \".py\".\"\"\""
   ]
  },
  {
   "cell_type": "code",
   "execution_count": 5,
   "id": "c49c0fc8-1adc-4c6b-892c-511b1926506d",
   "metadata": {},
   "outputs": [
    {
     "data": {
      "text/plain": [
       "\"Python is an interpreted language, which means that it executes code line by line, without the need for a compilation step. When you run \\n   a Python program, the interpreter reads the source code and converts it into bytecodes, which are then executed by the Python Virtual\\n   Machine (PVM).\\n\\nPython's interpreter-based approach offers several advantages, such as faster development time, easier debugging, and greater flexibility.\\nSince there's no need to compile the code, you can modify and test it on the fly, without having to recompile and link the program each time.\\n\\nHowever, Python does offer some compilation options to improve performance. For example, you can use a just-in-time (JIT) compiler like PyPy \\nor Numba to speed up certain parts of the code, or you can compile Python code to native machine code using tools like Cython or Nuitka.\\nBut these approaches are still based on interpreting the code, rather than compiling it from source.\""
      ]
     },
     "execution_count": 5,
     "metadata": {},
     "output_type": "execute_result"
    }
   ],
   "source": [
    "#5. Is Python code compiled or interpreted?\n",
    "\"\"\"Python is an interpreted language, which means that it executes code line by line, without the need for a compilation step. When you run \n",
    "   a Python program, the interpreter reads the source code and converts it into bytecodes, which are then executed by the Python Virtual\n",
    "   Machine (PVM).\n",
    "\n",
    "Python's interpreter-based approach offers several advantages, such as faster development time, easier debugging, and greater flexibility.\n",
    "Since there's no need to compile the code, you can modify and test it on the fly, without having to recompile and link the program each time.\n",
    "\n",
    "However, Python does offer some compilation options to improve performance. For example, you can use a just-in-time (JIT) compiler like PyPy \n",
    "or Numba to speed up certain parts of the code, or you can compile Python code to native machine code using tools like Cython or Nuitka.\n",
    "But these approaches are still based on interpreting the code, rather than compiling it from source.\"\"\""
   ]
  },
  {
   "cell_type": "code",
   "execution_count": 6,
   "id": "05467ed1-69e8-4bfc-b187-f14e0a82c1c0",
   "metadata": {},
   "outputs": [
    {
     "data": {
      "text/plain": [
       "'In Python, code is organized into blocks, which are delimited by indentation rather than explicit braces or keywords. Here are some \\n   common blocks of code used in Python:\\n\\n    Function blocks\\n    Conditional blocks\\n    Loop blocks\\n    Class blocks\\n    Module blocks'"
      ]
     },
     "execution_count": 6,
     "metadata": {},
     "output_type": "execute_result"
    }
   ],
   "source": [
    "#6.Name a few blocks of code used to define a Python language?\n",
    "\"\"\"In Python, code is organized into blocks, which are delimited by indentation rather than explicit braces or keywords. Here are some \n",
    "   common blocks of code used in Python:\n",
    "\n",
    "    Function blocks\n",
    "    Conditional blocks\n",
    "    Loop blocks\n",
    "    Class blocks\n",
    "    Module blocks\"\"\""
   ]
  },
  {
   "cell_type": "code",
   "execution_count": 7,
   "id": "f4705a4a-2136-40d0-9033-444d23045e4e",
   "metadata": {},
   "outputs": [
    {
     "data": {
      "text/plain": [
       "'In Python, the character used to give a single line comment is the hash symbol (#).\\n\\nAnything following the hash symbol in a line of code is considered a comment and is ignored by the Python interpreter. Comments are useful \\nfor documenting code, explaining its purpose, and making it easier to understand and maintain.'"
      ]
     },
     "execution_count": 7,
     "metadata": {},
     "output_type": "execute_result"
    }
   ],
   "source": [
    "#7. State a character used to give single line comments in Python?\n",
    "\"\"\"In Python, the character used to give a single line comment is the hash symbol (#).\n",
    "\n",
    "Anything following the hash symbol in a line of code is considered a comment and is ignored by the Python interpreter. Comments are useful \n",
    "for documenting code, explaining its purpose, and making it easier to understand and maintain.\"\"\""
   ]
  },
  {
   "cell_type": "code",
   "execution_count": 1,
   "id": "b4910901-8b01-40ce-af6c-cbd65c69d2a0",
   "metadata": {},
   "outputs": [
    {
     "data": {
      "text/plain": [
       "'In Python, there are several functions and modules that can help you find the version of Python that you are currently working with. \\n   Here are some of them:\\n\\nsys module: The sys module provides access to some variables that contain information about the Python interpreter and its environment. \\nYou can use the sys.version attribute to get the version of Python as a string.\\nCode\\nimport sys\\nprint(\"Python version:\", sys.version)\\n\\nplatform module: The platform module provides an interface to access various platform-specific information, including the version of Python.\\nYou can use the platform.python_version() function to get the version of Python as a string.\\nCode\\nimport platform\\nprint(\"Python version:\", platform.python_version())\\n\\n\\nplatform.sys.version: You can also get the version of Python by accessing the version attribute of the sys module in the platform module.\\nCode\\nimport platform\\nprint(\"Python version:\", platform.sys.version)'"
      ]
     },
     "execution_count": 1,
     "metadata": {},
     "output_type": "execute_result"
    }
   ],
   "source": [
    "#8. Mention functions which can help us to find the version of Python that are currently working on?\n",
    "\"\"\"In Python, there are several functions and modules that can help you find the version of Python that you are currently working with. \n",
    "   Here are some of them:\n",
    "\n",
    "sys module: The sys module provides access to some variables that contain information about the Python interpreter and its environment. \n",
    "You can use the sys.version attribute to get the version of Python as a string.\n",
    "Code\n",
    "import sys\n",
    "print(\"Python version:\", sys.version)\n",
    "\n",
    "platform module: The platform module provides an interface to access various platform-specific information, including the version of Python.\n",
    "You can use the platform.python_version() function to get the version of Python as a string.\n",
    "Code\n",
    "import platform\n",
    "print(\"Python version:\", platform.python_version())\n",
    "\n",
    "\n",
    "platform.sys.version: You can also get the version of Python by accessing the version attribute of the sys module in the platform module.\n",
    "Code\n",
    "import platform\n",
    "print(\"Python version:\", platform.sys.version)\"\"\""
   ]
  },
  {
   "cell_type": "code",
   "execution_count": 2,
   "id": "246519d6-fd11-4792-8106-2c50871ab300",
   "metadata": {},
   "outputs": [
    {
     "data": {
      "text/plain": [
       "'Python supports the creation of anonymous functions at runtime, using a construct called \"lambda\". A lambda function is a small, \\nanonymous function that can take any number of arguments, but can only have one expression. Lambda functions are often used when you need \\nto pass a function as an argument to another function or when you need a simple, one-line function for a specific task.'"
      ]
     },
     "execution_count": 2,
     "metadata": {},
     "output_type": "execute_result"
    }
   ],
   "source": [
    "#9.Python supports the creation of anonymous functions at runtime, using construct called........\n",
    "\n",
    "\"\"\"Python supports the creation of anonymous functions at runtime, using a construct called \"lambda\". A lambda function is a small, \n",
    "anonymous function that can take any number of arguments, but can only have one expression. Lambda functions are often used when you need \n",
    "to pass a function as an argument to another function or when you need a simple, one-line function for a specific task.\"\"\""
   ]
  },
  {
   "cell_type": "code",
   "execution_count": 3,
   "id": "9f74aecc-bd32-4bac-976f-dda730f534b9",
   "metadata": {},
   "outputs": [
    {
     "data": {
      "text/plain": [
       "'In Python, \"pip\" stands for \"Pip Installs Packages\". It is a package manager used to install and manage software packages, also known as \\n   modules or libraries, written in Python. Pip makes it easy to install and manage third-party packages that are not included in the Python\\n   standard library.'"
      ]
     },
     "execution_count": 3,
     "metadata": {},
     "output_type": "execute_result"
    }
   ],
   "source": [
    "#10. what does pip stand for python?\n",
    "\"\"\"In Python, \"pip\" stands for \"Pip Installs Packages\". It is a package manager used to install and manage software packages, also known as \n",
    "   modules or libraries, written in Python. Pip makes it easy to install and manage third-party packages that are not included in the Python\n",
    "   standard library.\"\"\""
   ]
  },
  {
   "cell_type": "code",
   "execution_count": 4,
   "id": "4334b326-62c8-4912-b251-d3b8bfca969b",
   "metadata": {},
   "outputs": [
    {
     "data": {
      "text/plain": [
       "'Python comes with a large number of built-in functions that can be used for a wide variety of tasks. Here are some of the most commonly \\n    used built-in functions in Python:\\n\\nprint(): Prints the specified message to the console or standard output.\\n\\nlen(): Returns the length (number of items) of an object, such as a string, list, or tuple.\\n\\ninput(): Reads a line of text from the console or standard input and returns it as a string.\\n\\ntype(): Returns the type of an object, such as int, float, str, list, or tuple.\\n\\nint(), float(), str(), bool(): Convert values to different data types.\\n\\nrange(): Generates a sequence of numbers, which can be used in a for loop or other iterable context.\\n\\nsum(): Calculates the sum of a sequence of numbers.\\n\\nmin() and max(): Returns the minimum and maximum values in a sequence.\\n\\nabs(): Returns the absolute value of a number.\\n\\nround(): Rounds a number to a specified number of decimal places.\\n\\nsorted(): Returns a sorted list of items in a sequence.\\n\\nzip(): Combines two or more lists into a list of tuples, where each tuple contains the corresponding elements from the input lists.\\n\\nThese are just a few of the many built-in functions available in Python.'"
      ]
     },
     "execution_count": 4,
     "metadata": {},
     "output_type": "execute_result"
    }
   ],
   "source": [
    "#11. Mention a few build-in functions in python?\n",
    "\"\"\"Python comes with a large number of built-in functions that can be used for a wide variety of tasks. Here are some of the most commonly \n",
    "    used built-in functions in Python:\n",
    "\n",
    "print(): Prints the specified message to the console or standard output.\n",
    "\n",
    "len(): Returns the length (number of items) of an object, such as a string, list, or tuple.\n",
    "\n",
    "input(): Reads a line of text from the console or standard input and returns it as a string.\n",
    "\n",
    "type(): Returns the type of an object, such as int, float, str, list, or tuple.\n",
    "\n",
    "int(), float(), str(), bool(): Convert values to different data types.\n",
    "\n",
    "range(): Generates a sequence of numbers, which can be used in a for loop or other iterable context.\n",
    "\n",
    "sum(): Calculates the sum of a sequence of numbers.\n",
    "\n",
    "min() and max(): Returns the minimum and maximum values in a sequence.\n",
    "\n",
    "abs(): Returns the absolute value of a number.\n",
    "\n",
    "round(): Rounds a number to a specified number of decimal places.\n",
    "\n",
    "sorted(): Returns a sorted list of items in a sequence.\n",
    "\n",
    "zip(): Combines two or more lists into a list of tuples, where each tuple contains the corresponding elements from the input lists.\n",
    "\n",
    "These are just a few of the many built-in functions available in Python.\"\"\""
   ]
  },
  {
   "cell_type": "code",
   "execution_count": 5,
   "id": "a457db57-68a2-46ea-83c6-9832b971716f",
   "metadata": {},
   "outputs": [
    {
     "data": {
      "text/plain": [
       "'In Python, the maximum length of an identifier is not explicitly defined. However, the Python Style Guide (PEP 8) recommends that\\n   identifiers (variable names, function names, etc.) should be \"reasonably descriptive\" and \"not too long\".\\n\\nPractically speaking, an identifier in Python can be very long, but it\\'s generally considered good practice to keep them short enough to \\nbe easily readable and understandable. Most Python developers try to keep identifier names around 20-30 characters or less, although \\nthere\\'s no hard and fast rule.\\n\\nIt\\'s worth noting that identifiers in Python can include letters (both uppercase and lowercase), digits, and underscores (_), but cannot \\nstart with a digit. Also, Python is a case-sensitive language, so my_var, My_Var, and MY_VAR are all considered different identifiers.'"
      ]
     },
     "execution_count": 5,
     "metadata": {},
     "output_type": "execute_result"
    }
   ],
   "source": [
    "#12.What is the maximum possible length of an identifier in Python?\n",
    "\"\"\"In Python, the maximum length of an identifier is not explicitly defined. However, the Python Style Guide (PEP 8) recommends that\n",
    "   identifiers (variable names, function names, etc.) should be \"reasonably descriptive\" and \"not too long\".\n",
    "\n",
    "Practically speaking, an identifier in Python can be very long, but it's generally considered good practice to keep them short enough to \n",
    "be easily readable and understandable. Most Python developers try to keep identifier names around 20-30 characters or less, although \n",
    "there's no hard and fast rule.\n",
    "\n",
    "It's worth noting that identifiers in Python can include letters (both uppercase and lowercase), digits, and underscores (_), but cannot \n",
    "start with a digit. Also, Python is a case-sensitive language, so my_var, My_Var, and MY_VAR are all considered different identifiers.\"\"\""
   ]
  },
  {
   "cell_type": "code",
   "execution_count": 6,
   "id": "e5342011-7edd-4f9a-a949-2b805c27ea42",
   "metadata": {},
   "outputs": [
    {
     "data": {
      "text/plain": [
       "\"There are many benefits to using Python as a programming language. Here are some of the key advantages:\\n\\nEasy to learn: Python has a simple and intuitive syntax that is easy to learn, even for beginners. This makes it a popular choice for \\nteaching programming in schools and universities.\\n\\nLarge standard library: Python comes with a large standard library that provides a wide range of modules and functions for tasks such as\\nfile I/O, networking, web development, data analysis, and more. This makes it easy to develop complex applications without having to write\\na lot of code from scratch.\\n\\nCross-platform compatibility: Python is available on a wide range of platforms, including Windows, macOS, Linux, and more. This makes it \\neasy to develop and deploy applications across multiple operating systems.\\n\\nHigh-level language: Python is a high-level language, which means that it abstracts away many of the low-level details of the computer, \\nsuch as memory management and CPU registers. This makes it easier to write code quickly and with fewer errors.\\n\\nDynamically typed: Python is a dynamically typed language, which means that you don't need to declare the type of a variable before you \\nuse it. This makes it easier to write code quickly and with more flexibility.\\n\\nStrong community support: Python has a large and active community of developers who contribute to the language and its ecosystem of \\nlibraries and tools. This means that there are many resources available online, including documentation, tutorials, and forums, that can \\nhelp you learn and use Python effectively.\\n\\nOverall, Python is a powerful and versatile programming language that is well-suited for a wide range of tasks, from web development to \\nscientific computing to artificial intelligence. Its ease of use, large standard library, and strong community support make it a popular \\nchoice among developers of all skill levels.\""
      ]
     },
     "execution_count": 6,
     "metadata": {},
     "output_type": "execute_result"
    }
   ],
   "source": [
    "#13.What are the benefits of using Python?\n",
    "\"\"\"There are many benefits to using Python as a programming language. Here are some of the key advantages:\n",
    "\n",
    "Easy to learn: Python has a simple and intuitive syntax that is easy to learn, even for beginners. This makes it a popular choice for \n",
    "teaching programming in schools and universities.\n",
    "\n",
    "Large standard library: Python comes with a large standard library that provides a wide range of modules and functions for tasks such as\n",
    "file I/O, networking, web development, data analysis, and more. This makes it easy to develop complex applications without having to write\n",
    "a lot of code from scratch.\n",
    "\n",
    "Cross-platform compatibility: Python is available on a wide range of platforms, including Windows, macOS, Linux, and more. This makes it \n",
    "easy to develop and deploy applications across multiple operating systems.\n",
    "\n",
    "High-level language: Python is a high-level language, which means that it abstracts away many of the low-level details of the computer, \n",
    "such as memory management and CPU registers. This makes it easier to write code quickly and with fewer errors.\n",
    "\n",
    "Dynamically typed: Python is a dynamically typed language, which means that you don't need to declare the type of a variable before you \n",
    "use it. This makes it easier to write code quickly and with more flexibility.\n",
    "\n",
    "Strong community support: Python has a large and active community of developers who contribute to the language and its ecosystem of \n",
    "libraries and tools. This means that there are many resources available online, including documentation, tutorials, and forums, that can \n",
    "help you learn and use Python effectively.\n",
    "\n",
    "Overall, Python is a powerful and versatile programming language that is well-suited for a wide range of tasks, from web development to \n",
    "scientific computing to artificial intelligence. Its ease of use, large standard library, and strong community support make it a popular \n",
    "choice among developers of all skill levels.\"\"\""
   ]
  },
  {
   "cell_type": "code",
   "execution_count": 7,
   "id": "18806e4e-9817-425b-9238-4ae1f837957a",
   "metadata": {},
   "outputs": [
    {
     "data": {
      "text/plain": [
       "\"In Python, memory management is handled automatically by a component called the Python memory manager. The memory manager allocates and \\n   deallocates blocks of memory for the objects in a Python program as needed.\\n\\nPython uses a combination of reference counting and a garbage collector to manage memory. Reference counting is a technique where each \\nobject keeps track of the number of references (i.e., variables, other objects, etc.) that point to it. When the reference count of an \\nobject reaches zero, the object is considered to be no longer in use and its memory is deallocated.\\n\\nHowever, reference counting alone is not sufficient to handle all cases of memory management in Python. For example, in cases where two \\nobjects reference each other in a circular pattern (known as a reference cycle), the reference counts of both objects would never \\nreach zero, and the objects would never be deallocated. To handle these cases, Python includes a garbage collector that periodically \\nscans the memory to find and deallocate objects that are no longer in use, including those involved in reference cycles.\\n\\nPython's memory management system is designed to be efficient and automatic, so that developers can focus on writing code rather than \\nworrying about memory allocation and deallocation. However, it's still important to be aware of how memory management works in Python, \\nespecially when dealing with large data sets or long-running programs, in order to avoid performance issues and memory leaks.\""
      ]
     },
     "execution_count": 7,
     "metadata": {},
     "output_type": "execute_result"
    }
   ],
   "source": [
    "#14. How is memory managed in Python?\n",
    "\"\"\"In Python, memory management is handled automatically by a component called the Python memory manager. The memory manager allocates and \n",
    "   deallocates blocks of memory for the objects in a Python program as needed.\n",
    "\n",
    "Python uses a combination of reference counting and a garbage collector to manage memory. Reference counting is a technique where each \n",
    "object keeps track of the number of references (i.e., variables, other objects, etc.) that point to it. When the reference count of an \n",
    "object reaches zero, the object is considered to be no longer in use and its memory is deallocated.\n",
    "\n",
    "However, reference counting alone is not sufficient to handle all cases of memory management in Python. For example, in cases where two \n",
    "objects reference each other in a circular pattern (known as a reference cycle), the reference counts of both objects would never \n",
    "reach zero, and the objects would never be deallocated. To handle these cases, Python includes a garbage collector that periodically \n",
    "scans the memory to find and deallocate objects that are no longer in use, including those involved in reference cycles.\n",
    "\n",
    "Python's memory management system is designed to be efficient and automatic, so that developers can focus on writing code rather than \n",
    "worrying about memory allocation and deallocation. However, it's still important to be aware of how memory management works in Python, \n",
    "especially when dealing with large data sets or long-running programs, in order to avoid performance issues and memory leaks.\"\"\""
   ]
  },
  {
   "cell_type": "code",
   "execution_count": 8,
   "id": "98e4ff48-c114-44f8-9919-667279cec10e",
   "metadata": {},
   "outputs": [
    {
     "data": {
      "text/plain": [
       "'Here are the steps to install Python on Windows and set path variables:\\n\\nDownload the latest version of Python from the official website (https://www.python.org/downloads/windows/) based on your system \\narchitecture (32-bit or 64-bit).\\n\\nRun the downloaded installer file and follow the on-screen instructions to install Python on your system. Make sure to select the option \\nto add Python to the system PATH during installation.\\n\\nOnce the installation is complete, open the Command Prompt (search for \"cmd\" in the Start menu) and type python --version to check that \\nPython is installed correctly.\\n\\nTo set the PATH environment variable, right-click on This PC (or My Computer) and select Properties.\\n\\nClick on Advanced System Settings, then click on the Environment Variables button.\\n\\nUnder System Variables, scroll down and find the \"Path\" variable. Select it and click Edit.\\n\\nAdd the path to the Python executable (usually \"C:\\\\PythonXX\\x08in\" where XX is the version number, e.g. \"C:\\\\Python39\\x08in\") to the beginning \\nof the Variable value field, followed by a semicolon.\\n\\nClick OK to save the changes, then close all the windows.\\n\\nTo test that the PATH variable has been set correctly, open a new Command Prompt and type python --version. If Python is installed \\ncorrectly and the PATH variable is set correctly, this command should display the version of Python installed on your system.\\n\\nThat\\'s it! We should now be able to use Python from the Command Prompt by typing python followed by the name of the Python script you \\nwant to run.'"
      ]
     },
     "execution_count": 8,
     "metadata": {},
     "output_type": "execute_result"
    }
   ],
   "source": [
    "#15.How to install Python on Windows and set path variables?\n",
    "\"\"\"Here are the steps to install Python on Windows and set path variables:\n",
    "\n",
    "Download the latest version of Python from the official website (https://www.python.org/downloads/windows/) based on your system \n",
    "architecture (32-bit or 64-bit).\n",
    "\n",
    "Run the downloaded installer file and follow the on-screen instructions to install Python on your system. Make sure to select the option \n",
    "to add Python to the system PATH during installation.\n",
    "\n",
    "Once the installation is complete, open the Command Prompt (search for \"cmd\" in the Start menu) and type python --version to check that \n",
    "Python is installed correctly.\n",
    "\n",
    "To set the PATH environment variable, right-click on This PC (or My Computer) and select Properties.\n",
    "\n",
    "Click on Advanced System Settings, then click on the Environment Variables button.\n",
    "\n",
    "Under System Variables, scroll down and find the \"Path\" variable. Select it and click Edit.\n",
    "\n",
    "Add the path to the Python executable (usually \"C:\\PythonXX\\bin\" where XX is the version number, e.g. \"C:\\Python39\\bin\") to the beginning \n",
    "of the Variable value field, followed by a semicolon.\n",
    "\n",
    "Click OK to save the changes, then close all the windows.\n",
    "\n",
    "To test that the PATH variable has been set correctly, open a new Command Prompt and type python --version. If Python is installed \n",
    "correctly and the PATH variable is set correctly, this command should display the version of Python installed on your system.\n",
    "\n",
    "That's it! We should now be able to use Python from the Command Prompt by typing python followed by the name of the Python script you \n",
    "want to run.\"\"\""
   ]
  },
  {
   "cell_type": "code",
   "execution_count": 9,
   "id": "3c2794f4-6792-4505-9b97-0184ed25ca7d",
   "metadata": {},
   "outputs": [
    {
     "data": {
      "text/plain": [
       "'Yes, indentation is required in Python. In fact, indentation plays a crucial role in Python because it is used to indicate the scope or\\nblock of code. Python does not use braces or brackets to indicate block structure like many other programming languages do. Instead, it \\nuses whitespace indentation to indicate the start and end of a block of code.'"
      ]
     },
     "execution_count": 9,
     "metadata": {},
     "output_type": "execute_result"
    }
   ],
   "source": [
    "#Is indentation required in python?\n",
    "\"\"\"Yes, indentation is required in Python. In fact, indentation plays a crucial role in Python because it is used to indicate the scope or\n",
    "block of code. Python does not use braces or brackets to indicate block structure like many other programming languages do. Instead, it \n",
    "uses whitespace indentation to indicate the start and end of a block of code.\"\"\""
   ]
  },
  {
   "cell_type": "code",
   "execution_count": null,
   "id": "96c3aa4a-f66d-4af7-be7f-9b1282400194",
   "metadata": {},
   "outputs": [],
   "source": []
  }
 ],
 "metadata": {
  "kernelspec": {
   "display_name": "Python 3 (ipykernel)",
   "language": "python",
   "name": "python3"
  },
  "language_info": {
   "codemirror_mode": {
    "name": "ipython",
    "version": 3
   },
   "file_extension": ".py",
   "mimetype": "text/x-python",
   "name": "python",
   "nbconvert_exporter": "python",
   "pygments_lexer": "ipython3",
   "version": "3.10.6"
  }
 },
 "nbformat": 4,
 "nbformat_minor": 5
}
